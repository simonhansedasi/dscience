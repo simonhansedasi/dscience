{
 "cells": [
  {
   "cell_type": "code",
   "execution_count": 1,
   "id": "8d43a64e-f9ce-488b-aec3-7db314a6eef5",
   "metadata": {
    "tags": []
   },
   "outputs": [],
   "source": [
    "# Create a Python list whose elements are the numbers 3, 7, 1, 3, 5.\n",
    "\n",
    "l = [3, 7, 1, 3, 5]"
   ]
  },
  {
   "cell_type": "code",
   "execution_count": 2,
   "id": "05d668e3-f1f2-4ce1-8000-eb8d8c876bda",
   "metadata": {
    "tags": []
   },
   "outputs": [],
   "source": [
    "# Write a function that computes the average of a list of numbers.\n",
    "\n",
    "def find_avg(list_of_numbers):\n",
    "    return (sum(list_of_numbers) / len(list_of_numbers))"
   ]
  },
  {
   "cell_type": "code",
   "execution_count": 3,
   "id": "89e780e1-2ae7-4b7a-928a-c3e722bbe43b",
   "metadata": {
    "tags": []
   },
   "outputs": [
    {
     "name": "stdout",
     "output_type": "stream",
     "text": [
      "average: 3.8\n",
      "elapsed time: 5.412101745605469e-05s\n"
     ]
    }
   ],
   "source": [
    "# Compute the average runtime.\n",
    "\n",
    "import time\n",
    "start = time.time()\n",
    "\n",
    "avg = find_avg(l)\n",
    "\n",
    "end = time.time()\n",
    "\n",
    "elapsed_time = end - start\n",
    "print(f'average: {avg}\\nelapsed time: {elapsed_time}s')"
   ]
  },
  {
   "cell_type": "code",
   "execution_count": 4,
   "id": "67382776-ee4d-4623-a351-6280f9657e6b",
   "metadata": {
    "tags": []
   },
   "outputs": [],
   "source": [
    "# Turn the above list into a numpy 1-D array.\n",
    "\n",
    "import numpy as np\n",
    "a = np.array(l)"
   ]
  },
  {
   "cell_type": "code",
   "execution_count": 5,
   "id": "24d506e5-2430-4921-873d-8713213979a8",
   "metadata": {},
   "outputs": [
    {
     "name": "stdout",
     "output_type": "stream",
     "text": [
      "3.8\n",
      "numpy list avg: 3.8, elapsed time: 0.000217437744140625\n",
      "numpy list avg: 3.8, elapsed time: 9.655952453613281e-05\n"
     ]
    }
   ],
   "source": [
    "# Print the average of the above array. \n",
    "\n",
    "print(avg)\n",
    "\n",
    "\n",
    "# Get the average using numpy in both of the ways described above.\n",
    "\n",
    "start = time.time() \n",
    "avg = np.mean(l)\n",
    "end = time.time()\n",
    "np_mean_list_time = end - start\n",
    "print(f'numpy list avg: {avg}, elapsed time: {np_mean_list_time}')\n",
    "\n",
    "start = time.time() \n",
    "avg = np.mean(a)\n",
    "end = time.time()\n",
    "np_mean_array_time = end - start\n",
    "print(f'numpy list avg: {avg}, elapsed time: {np_mean_array_time}')\n"
   ]
  },
  {
   "cell_type": "code",
   "execution_count": 6,
   "id": "14267bde-a21c-4ad4-a957-21c503680828",
   "metadata": {
    "tags": []
   },
   "outputs": [
    {
     "name": "stdout",
     "output_type": "stream",
     "text": [
      "elapsed time avg of np list: 0.000217437744140625s\n",
      "elapsed time avg of np array: 9.655952453613281e-05s\n",
      "elapsed time avg of list: 5.269050598144531e-05s\n",
      "elapsed time avg of array: 5.221366882324219e-05s\n"
     ]
    }
   ],
   "source": [
    "# Compare the runtime of the average computation using numpy \n",
    "# with the runtime of the function you wrote eariler.\n",
    "\n",
    "\n",
    "print(f'elapsed time avg of np list: {np_mean_list_time}s')\n",
    "print(f'elapsed time avg of np array: {np_mean_array_time}s')\n",
    "\n",
    "start = time.time()\n",
    "avg = find_avg(l)\n",
    "end = time.time()\n",
    "\n",
    "avg_list_time = end - start\n",
    "\n",
    "start = time.time()\n",
    "avg = find_avg(a)\n",
    "end = time.time()\n",
    "\n",
    "avg_array_time = end - start\n",
    "\n",
    "print(f'elapsed time avg of list: {avg_list_time}s')\n",
    "print(f'elapsed time avg of array: {avg_array_time}s')\n",
    "\n",
    "del_t_l = np_mean_list_time - avg_list_time\n",
    "del_t_a = np_mean_array_time - avg_array_time"
   ]
  },
  {
   "cell_type": "code",
   "execution_count": 7,
   "id": "8b7239ad-3f73-4c69-af27-5fa13d19557c",
   "metadata": {
    "tags": []
   },
   "outputs": [],
   "source": [
    "# Load the pandas library and use pandas.Series to create a pandas Series object, \n",
    "# which is the equivalent of a numpy 1-D array.\n",
    "\n",
    "import pandas as pd\n",
    "s = pd.Series(l)"
   ]
  },
  {
   "cell_type": "code",
   "execution_count": 8,
   "id": "ea5e42a8-568b-42ac-ae2f-58fe0fe386d3",
   "metadata": {
    "tags": []
   },
   "outputs": [
    {
     "data": {
      "text/plain": [
       "3.8"
      ]
     },
     "execution_count": 8,
     "metadata": {},
     "output_type": "execute_result"
    }
   ],
   "source": [
    "# Pass the Series to the numpy.mean function to confirm it returns its average.\n",
    "\n",
    "np.mean(s)"
   ]
  },
  {
   "cell_type": "code",
   "execution_count": 9,
   "id": "244b9100-5bc7-4788-bc9e-6ce074451cbd",
   "metadata": {
    "tags": []
   },
   "outputs": [
    {
     "data": {
      "text/plain": [
       "3.8"
      ]
     },
     "execution_count": 9,
     "metadata": {},
     "output_type": "execute_result"
    }
   ],
   "source": [
    "# Call the mean method of the Series and confirm it returns its average.\n",
    "\n",
    "s.mean()"
   ]
  },
  {
   "cell_type": "code",
   "execution_count": 10,
   "id": "ac51f8be-8ae1-4edd-9450-fd2c2a126ebd",
   "metadata": {
    "tags": []
   },
   "outputs": [
    {
     "name": "stdout",
     "output_type": "stream",
     "text": [
      "Type of s.values:\", <class 'numpy.ndarray'>\n"
     ]
    },
    {
     "data": {
      "text/plain": [
       "array([3, 7, 1, 3, 5])"
      ]
     },
     "execution_count": 10,
     "metadata": {},
     "output_type": "execute_result"
    }
   ],
   "source": [
    "# Show that by calling the values attribute of a Series object, you get a numpy array.\n",
    "\n",
    "print(f'Type of s.values:\", {type(s.values)}')\n",
    "\n",
    "s.values"
   ]
  }
 ],
 "metadata": {
  "kernelspec": {
   "display_name": "Python 3 (ipykernel)",
   "language": "python",
   "name": "python3"
  },
  "language_info": {
   "codemirror_mode": {
    "name": "ipython",
    "version": 3
   },
   "file_extension": ".py",
   "mimetype": "text/x-python",
   "name": "python",
   "nbconvert_exporter": "python",
   "pygments_lexer": "ipython3",
   "version": "3.7.6"
  }
 },
 "nbformat": 4,
 "nbformat_minor": 5
}
