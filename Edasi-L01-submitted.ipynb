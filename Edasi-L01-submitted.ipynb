{
 "cells": [
  {
   "cell_type": "code",
   "execution_count": 1,
   "id": "8d43a64e-f9ce-488b-aec3-7db314a6eef5",
   "metadata": {
    "tags": []
   },
   "outputs": [],
   "source": [
    "# Create a Python list whose elements are the numbers 3, 7, 1, 3, 5.\n",
    "\n",
    "l = [3, 7, 1, 3, 5]"
   ]
  },
  {
   "cell_type": "code",
   "execution_count": 2,
   "id": "05d668e3-f1f2-4ce1-8000-eb8d8c876bda",
   "metadata": {
    "tags": []
   },
   "outputs": [],
   "source": [
    "# Write a function that computes the average of a list of numbers.\n",
    "\n",
    "def find_avg(list_of_numbers):\n",
    "    return (sum(list_of_numbers) / len(list_of_numbers))"
   ]
  },
  {
   "cell_type": "markdown",
   "id": "d595f923-1f2a-436d-b92b-32defe8fd38d",
   "metadata": {},
   "source": [
    "The average of a list of numbers $\\left( x_1, x_2, \\ldots, x_n \\right)$ is given by:\n",
    "\n",
    "$$\n",
    "\\bar{x} = \\frac{1}{n} \\sum_{i=1}^{n} x_i\n",
    "$$\n",
    "\n",
    "Where:\n",
    "- $\\left( \\bar{x} \\right)$ is the average,\n",
    "- $\\left( n \\right)$ is the number of values,\n",
    "- $\\left(x_i \\right)$ represents each value in the list.\n",
    "\n",
    "The above function solves this equation using built in python functions and returns the answer without assigning any variables.\n"
   ]
  },
  {
   "cell_type": "code",
   "execution_count": 3,
   "id": "89e780e1-2ae7-4b7a-928a-c3e722bbe43b",
   "metadata": {
    "tags": []
   },
   "outputs": [
    {
     "name": "stdout",
     "output_type": "stream",
     "text": [
      "average: 3.8\n",
      "elapsed time: 1.8358230590820312e-05s\n"
     ]
    }
   ],
   "source": [
    "# Compute the average runtime.\n",
    "\n",
    "'''\n",
    "Use the time package to record accurate time of day at points before\n",
    "and after code executes.\n",
    "'''\n",
    "import time\n",
    "start = time.time()\n",
    "\n",
    "avg = find_avg(l)\n",
    "\n",
    "end = time.time()\n",
    "\n",
    "\n",
    "'''\n",
    "Total time elapsed is end - start times.\n",
    "'''\n",
    "elapsed_time = end - start\n",
    "print(f'average: {avg}\\nelapsed time: {elapsed_time}s')"
   ]
  },
  {
   "cell_type": "code",
   "execution_count": 4,
   "id": "67382776-ee4d-4623-a351-6280f9657e6b",
   "metadata": {
    "tags": []
   },
   "outputs": [],
   "source": [
    "# Turn the above list into a numpy 1-D array.\n",
    "\n",
    "import numpy as np\n",
    "\n",
    "'''\n",
    "turning a variable (list) into an array\n",
    "'''\n",
    "a = np.array(l)"
   ]
  },
  {
   "cell_type": "code",
   "execution_count": 5,
   "id": "61e03d3d-beb6-4c75-8497-292f024113cf",
   "metadata": {},
   "outputs": [
    {
     "name": "stdout",
     "output_type": "stream",
     "text": [
      "3.8\n"
     ]
    }
   ],
   "source": [
    "# Print the average of the above array. \n",
    "\n",
    "'''\n",
    "find the average using our hand-written function\n",
    "'''\n",
    "avg_array = find_avg(a)\n",
    "\n",
    "'''\n",
    "print the computed average\n",
    "'''\n",
    "print(avg_array)"
   ]
  },
  {
   "cell_type": "code",
   "execution_count": 6,
   "id": "24d506e5-2430-4921-873d-8713213979a8",
   "metadata": {},
   "outputs": [
    {
     "name": "stdout",
     "output_type": "stream",
     "text": [
      "numpy list avg: 3.8, elapsed time: 7.700920104980469e-05\n",
      "numpy list avg: 3.8, elapsed time: 3.361701965332031e-05\n"
     ]
    }
   ],
   "source": [
    "# Get the average using numpy in both of the ways described above.\n",
    "\n",
    "'''\n",
    "Use time function as before. Measure run times for using numpy\n",
    "to compute the average of both an array (a) and list (l)\n",
    "'''\n",
    "start = time.time() \n",
    "avg = np.mean(l)\n",
    "end = time.time()\n",
    "np_mean_list_time = end - start\n",
    "print(f'numpy list avg: {avg}, elapsed time: {np_mean_list_time}')\n",
    "\n",
    "start = time.time() \n",
    "avg = np.mean(a)\n",
    "end = time.time()\n",
    "np_mean_array_time = end - start\n",
    "print(f'numpy list avg: {avg}, elapsed time: {np_mean_array_time}')"
   ]
  },
  {
   "cell_type": "code",
   "execution_count": 7,
   "id": "14267bde-a21c-4ad4-a957-21c503680828",
   "metadata": {
    "tags": []
   },
   "outputs": [
    {
     "name": "stdout",
     "output_type": "stream",
     "text": [
      "elapsed time avg of np list: 7.700920104980469e-05s\n",
      "elapsed time avg of np array: 3.361701965332031e-05s\n",
      "elapsed time avg of list: 1.9311904907226562e-05s\n",
      "elapsed time avg of array: 2.2411346435546875e-05s\n",
      "The hand-written function is 5.7697296142578125e-05s faster with lists and 1.1205673217773438e-05s faster with arrays\n"
     ]
    }
   ],
   "source": [
    "# Compare the runtime of the average computation using numpy \n",
    "# with the runtime of the function you wrote eariler.\n",
    "\n",
    "\n",
    "\n",
    "'''\n",
    "First gather run times of both list(l) and array (a) using the\n",
    "hand-written function\n",
    "'''\n",
    "print(f'elapsed time avg of np list: {np_mean_list_time}s')\n",
    "print(f'elapsed time avg of np array: {np_mean_array_time}s')\n",
    "\n",
    "start = time.time()\n",
    "avg = find_avg(l)\n",
    "end = time.time()\n",
    "\n",
    "avg_list_time = end - start\n",
    "\n",
    "start = time.time()\n",
    "avg = find_avg(a)\n",
    "end = time.time()\n",
    "\n",
    "avg_array_time = end - start\n",
    "\n",
    "print(f'elapsed time avg of list: {avg_list_time}s')\n",
    "print(f'elapsed time avg of array: {avg_array_time}s')\n",
    "\n",
    "\n",
    "'''\n",
    "Measure the difference in run times between numpy and hand-written\n",
    "function. We already know the hand-written function is faster\n",
    "from the raw measurements.\n",
    "'''\n",
    "del_t_l = np_mean_list_time - avg_list_time\n",
    "del_t_a = np_mean_array_time - avg_array_time\n",
    "print(\n",
    "    f'The hand-written function is {del_t_l}s faster with lists '\n",
    "    f'and {del_t_a}s faster with arrays'\n",
    ")"
   ]
  },
  {
   "cell_type": "code",
   "execution_count": 8,
   "id": "8b7239ad-3f73-4c69-af27-5fa13d19557c",
   "metadata": {
    "tags": []
   },
   "outputs": [],
   "source": [
    "# Load the pandas library and use pandas.Series to create a pandas Series object, \n",
    "# which is the equivalent of a numpy 1-D array.\n",
    "\n",
    "import pandas as pd\n",
    "\n",
    "'''\n",
    "Turn the list into a series just like we did with numpy. Just call the Series method.\n",
    "'''\n",
    "s = pd.Series(l)"
   ]
  },
  {
   "cell_type": "code",
   "execution_count": 9,
   "id": "ea5e42a8-568b-42ac-ae2f-58fe0fe386d3",
   "metadata": {
    "tags": []
   },
   "outputs": [
    {
     "name": "stdout",
     "output_type": "stream",
     "text": [
      "our calculated mean: 3.8, same as before\n"
     ]
    }
   ],
   "source": [
    "# Pass the Series to the numpy.mean function to confirm it returns its average.\n",
    "\n",
    "'''\n",
    "Comparing the \n",
    "'''\n",
    "np_mean_of_series = np.mean(s)\n",
    "\n",
    "print(f'our calculated mean: {np_mean_of_series}'\n",
    "      f', same as before')"
   ]
  },
  {
   "cell_type": "code",
   "execution_count": 10,
   "id": "244b9100-5bc7-4788-bc9e-6ce074451cbd",
   "metadata": {
    "tags": []
   },
   "outputs": [
    {
     "data": {
      "text/plain": [
       "3.8"
      ]
     },
     "execution_count": 10,
     "metadata": {},
     "output_type": "execute_result"
    }
   ],
   "source": [
    "# Call the mean method of the Series and confirm it returns its average.\n",
    "\n",
    "'''\n",
    "Pandas has a lot of overlap with numpy. Find the average of the series just like \n",
    "a numpy array.\n",
    "'''\n",
    "s.mean()"
   ]
  },
  {
   "cell_type": "code",
   "execution_count": 11,
   "id": "ac51f8be-8ae1-4edd-9450-fd2c2a126ebd",
   "metadata": {
    "tags": []
   },
   "outputs": [
    {
     "name": "stdout",
     "output_type": "stream",
     "text": [
      "Type of s.values:\", <class 'numpy.ndarray'>\n"
     ]
    },
    {
     "data": {
      "text/plain": [
       "array([3, 7, 1, 3, 5])"
      ]
     },
     "execution_count": 11,
     "metadata": {},
     "output_type": "execute_result"
    }
   ],
   "source": [
    "# Show that by calling the values attribute of a Series object, you get a numpy array.\n",
    "\n",
    "'''\n",
    "Using the python type function will show us what we need\n",
    "'''\n",
    "print(f'Type of s.values:\", {type(s.values)}')\n",
    "\n",
    "s.values"
   ]
  }
 ],
 "metadata": {
  "kernelspec": {
   "display_name": "Python 3 (ipykernel)",
   "language": "python",
   "name": "python3"
  },
  "language_info": {
   "codemirror_mode": {
    "name": "ipython",
    "version": 3
   },
   "file_extension": ".py",
   "mimetype": "text/x-python",
   "name": "python",
   "nbconvert_exporter": "python",
   "pygments_lexer": "ipython3",
   "version": "3.7.6"
  }
 },
 "nbformat": 4,
 "nbformat_minor": 5
}
